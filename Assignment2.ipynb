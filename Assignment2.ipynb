{
 "cells": [
  {
   "cell_type": "code",
   "execution_count": 1,
   "metadata": {},
   "outputs": [],
   "source": [
    "import pandas as pd #bu şekilde istediğim fonksiyonlara erişebileceğim\n",
    "import numpy as np #büyük sayılar ve hesaplama işlemleri için\n",
    "import os\n",
    "import glob"
   ]
  },
  {
   "cell_type": "code",
   "execution_count": 2,
   "metadata": {},
   "outputs": [
    {
     "data": {
      "text/plain": [
       "'C:\\\\Users\\\\Lenovo'"
      ]
     },
     "execution_count": 2,
     "metadata": {},
     "output_type": "execute_result"
    }
   ],
   "source": [
    "pwd"
   ]
  },
  {
   "cell_type": "code",
   "execution_count": 3,
   "metadata": {},
   "outputs": [],
   "source": [
    "os.chdir(\"/Users/Lenovo/archive\")"
   ]
  },
  {
   "cell_type": "code",
   "execution_count": 4,
   "metadata": {},
   "outputs": [
    {
     "data": {
      "text/plain": [
       "'C:\\\\Users\\\\Lenovo\\\\archive'"
      ]
     },
     "execution_count": 4,
     "metadata": {},
     "output_type": "execute_result"
    }
   ],
   "source": [
    "pwd"
   ]
  },
  {
   "cell_type": "code",
   "execution_count": 5,
   "metadata": {},
   "outputs": [
    {
     "name": "stdout",
     "output_type": "stream",
     "text": [
      " Volume in drive C has no label.\n",
      " Volume Serial Number is D2B7-D247\n",
      "\n",
      " Directory of C:\\Users\\Lenovo\\archive\n",
      "\n",
      "21.10.2021  17:58    <DIR>          .\n",
      "21.10.2021  17:58    <DIR>          ..\n",
      "20.09.2019  14:24           125.627 news.csv\n",
      "20.09.2019  14:24            45.730 news_api.csv\n",
      "21.10.2021  21:32             1.907 newsapi.csv\n",
      "20.09.2019  14:24           123.874 politics.csv\n",
      "20.09.2019  14:24           112.571 sports.csv\n",
      "20.09.2019  14:24           115.449 television.csv\n",
      "20.09.2019  14:24             5.192 trending.csv\n",
      "20.09.2019  14:24           130.493 twitter.csv\n",
      "20.09.2019  14:24           131.223 uplifting_news.csv\n",
      "20.09.2019  14:24           151.877 worldnews.csv\n",
      "              10 File(s)        943.943 bytes\n",
      "               2 Dir(s)   3.560.972.288 bytes free\n"
     ]
    }
   ],
   "source": [
    "ls"
   ]
  },
  {
   "cell_type": "code",
   "execution_count": 6,
   "metadata": {},
   "outputs": [],
   "source": [
    "#combining all of the files. In the code below we will read all of the csv's with pd.concat() method.\n",
    "#before we do that, we can get one result within dataframe by adding the appropriate encoding:\n",
    "# UTF-16 and tab delimited data (\\t)\n"
   ]
  },
  {
   "cell_type": "code",
   "execution_count": 7,
   "metadata": {},
   "outputs": [],
   "source": [
    "dosya_uzantisi= \".csv\""
   ]
  },
  {
   "cell_type": "code",
   "execution_count": 8,
   "metadata": {},
   "outputs": [],
   "source": [
    "news = pd.read_csv(r'C:/Users/Lenovo/archive/news.csv', encoding='latin-1')"
   ]
  },
  {
   "cell_type": "code",
   "execution_count": 9,
   "metadata": {},
   "outputs": [],
   "source": [
    "news_api =pd.read_csv(r'C:/Users/Lenovo/archive/news_api.csv',  encoding='latin-1')"
   ]
  },
  {
   "cell_type": "code",
   "execution_count": 10,
   "metadata": {},
   "outputs": [],
   "source": [
    "politics =pd.read_csv(r'C:/Users/Lenovo/archive/politics.csv',  encoding='latin-1')"
   ]
  },
  {
   "cell_type": "code",
   "execution_count": 11,
   "metadata": {},
   "outputs": [],
   "source": [
    "sports =pd.read_csv(r'C:/Users/Lenovo/archive/sports.csv',  encoding='latin-1')"
   ]
  },
  {
   "cell_type": "code",
   "execution_count": 12,
   "metadata": {},
   "outputs": [],
   "source": [
    "television =pd.read_csv(r'C:/Users/Lenovo/archive/television.csv',  encoding='latin-1')"
   ]
  },
  {
   "cell_type": "code",
   "execution_count": 13,
   "metadata": {},
   "outputs": [],
   "source": [
    "trending =pd.read_csv(r'C:/Users/Lenovo/archive/trending.csv',  encoding='latin-1')"
   ]
  },
  {
   "cell_type": "code",
   "execution_count": 14,
   "metadata": {},
   "outputs": [],
   "source": [
    "twitter=pd.read_csv(r'C:/Users/Lenovo/archive/twitter.csv',  encoding='latin-1')"
   ]
  },
  {
   "cell_type": "code",
   "execution_count": 15,
   "metadata": {},
   "outputs": [],
   "source": [
    "uplifting_news=pd.read_csv(r'C:/Users/Lenovo/archive/uplifting_news.csv',  encoding='latin-1')"
   ]
  },
  {
   "cell_type": "code",
   "execution_count": 16,
   "metadata": {},
   "outputs": [],
   "source": [
    "world_news= pd.read_csv(r'C:/Users/Lenovo/archive/worldnews.csv',  encoding='latin-1')"
   ]
  },
  {
   "cell_type": "code",
   "execution_count": 17,
   "metadata": {},
   "outputs": [],
   "source": [
    "frame_topics = [ politics, sports, television,news]"
   ]
  },
  {
   "cell_type": "code",
   "execution_count": 18,
   "metadata": {},
   "outputs": [],
   "source": [
    "concat_topics= pd.concat(frame_topics)"
   ]
  },
  {
   "cell_type": "code",
   "execution_count": 19,
   "metadata": {},
   "outputs": [],
   "source": [
    "concat_topics = concat_topics.dropna()"
   ]
  },
  {
   "cell_type": "code",
   "execution_count": 20,
   "metadata": {
    "scrolled": true
   },
   "outputs": [
    {
     "data": {
      "text/html": [
       "<div>\n",
       "<style scoped>\n",
       "    .dataframe tbody tr th:only-of-type {\n",
       "        vertical-align: middle;\n",
       "    }\n",
       "\n",
       "    .dataframe tbody tr th {\n",
       "        vertical-align: top;\n",
       "    }\n",
       "\n",
       "    .dataframe thead th {\n",
       "        text-align: right;\n",
       "    }\n",
       "</style>\n",
       "<table border=\"1\" class=\"dataframe\">\n",
       "  <thead>\n",
       "    <tr style=\"text-align: right;\">\n",
       "      <th></th>\n",
       "      <th>Unnamed: 0</th>\n",
       "      <th>Title</th>\n",
       "      <th>Date</th>\n",
       "      <th>Time</th>\n",
       "      <th>Score</th>\n",
       "      <th>Number of Comments</th>\n",
       "    </tr>\n",
       "  </thead>\n",
       "  <tbody>\n",
       "    <tr>\n",
       "      <th>0</th>\n",
       "      <td>0</td>\n",
       "      <td>Megathread: Sean Spicer WWII gaffe</td>\n",
       "      <td>2017-04-12</td>\n",
       "      <td>00:51:25</td>\n",
       "      <td>14938</td>\n",
       "      <td>6461</td>\n",
       "    </tr>\n",
       "    <tr>\n",
       "      <th>1</th>\n",
       "      <td>1</td>\n",
       "      <td>Manafort Firm Received Ukraine Ledger Payout</td>\n",
       "      <td>2017-04-12</td>\n",
       "      <td>15:12:43</td>\n",
       "      <td>11993</td>\n",
       "      <td>809</td>\n",
       "    </tr>\n",
       "    <tr>\n",
       "      <th>2</th>\n",
       "      <td>2</td>\n",
       "      <td>Its not too late to get rid of FBI Director Ja...</td>\n",
       "      <td>2017-04-12</td>\n",
       "      <td>17:42:17</td>\n",
       "      <td>3119</td>\n",
       "      <td>748</td>\n",
       "    </tr>\n",
       "    <tr>\n",
       "      <th>3</th>\n",
       "      <td>3</td>\n",
       "      <td>Donald Trump, who doesnt read books, is ignora...</td>\n",
       "      <td>2017-04-12</td>\n",
       "      <td>14:14:59</td>\n",
       "      <td>5758</td>\n",
       "      <td>518</td>\n",
       "    </tr>\n",
       "    <tr>\n",
       "      <th>4</th>\n",
       "      <td>4</td>\n",
       "      <td>Did he or didnt he? Trump contradicts himself ...</td>\n",
       "      <td>2017-04-12</td>\n",
       "      <td>16:52:49</td>\n",
       "      <td>2993</td>\n",
       "      <td>256</td>\n",
       "    </tr>\n",
       "    <tr>\n",
       "      <th>...</th>\n",
       "      <td>...</td>\n",
       "      <td>...</td>\n",
       "      <td>...</td>\n",
       "      <td>...</td>\n",
       "      <td>...</td>\n",
       "      <td>...</td>\n",
       "    </tr>\n",
       "    <tr>\n",
       "      <th>1195</th>\n",
       "      <td>1195</td>\n",
       "      <td>Russian bombers again fly near Alaska</td>\n",
       "      <td>2017-04-19</td>\n",
       "      <td>21:20:57</td>\n",
       "      <td>3</td>\n",
       "      <td>11</td>\n",
       "    </tr>\n",
       "    <tr>\n",
       "      <th>1196</th>\n",
       "      <td>1196</td>\n",
       "      <td>Detroit doctor charged with female genital mut...</td>\n",
       "      <td>2017-04-18</td>\n",
       "      <td>21:39:29</td>\n",
       "      <td>230</td>\n",
       "      <td>101</td>\n",
       "    </tr>\n",
       "    <tr>\n",
       "      <th>1197</th>\n",
       "      <td>1197</td>\n",
       "      <td>F**k off back to India - Irish womans racist a...</td>\n",
       "      <td>2017-04-19</td>\n",
       "      <td>00:19:27</td>\n",
       "      <td>139</td>\n",
       "      <td>96</td>\n",
       "    </tr>\n",
       "    <tr>\n",
       "      <th>1198</th>\n",
       "      <td>1198</td>\n",
       "      <td>Dorrance Hill Hamilton, whose grandfather inve...</td>\n",
       "      <td>2017-04-19</td>\n",
       "      <td>02:42:04</td>\n",
       "      <td>84</td>\n",
       "      <td>3</td>\n",
       "    </tr>\n",
       "    <tr>\n",
       "      <th>1199</th>\n",
       "      <td>1199</td>\n",
       "      <td>Harvard Activists Say Theyre So Sorry for Post...</td>\n",
       "      <td>2017-04-18</td>\n",
       "      <td>16:49:43</td>\n",
       "      <td>508</td>\n",
       "      <td>460</td>\n",
       "    </tr>\n",
       "  </tbody>\n",
       "</table>\n",
       "<p>4799 rows × 6 columns</p>\n",
       "</div>"
      ],
      "text/plain": [
       "      Unnamed: 0                                              Title  \\\n",
       "0              0                 Megathread: Sean Spicer WWII gaffe   \n",
       "1              1       Manafort Firm Received Ukraine Ledger Payout   \n",
       "2              2  Its not too late to get rid of FBI Director Ja...   \n",
       "3              3  Donald Trump, who doesnt read books, is ignora...   \n",
       "4              4  Did he or didnt he? Trump contradicts himself ...   \n",
       "...          ...                                                ...   \n",
       "1195        1195              Russian bombers again fly near Alaska   \n",
       "1196        1196  Detroit doctor charged with female genital mut...   \n",
       "1197        1197  F**k off back to India - Irish womans racist a...   \n",
       "1198        1198  Dorrance Hill Hamilton, whose grandfather inve...   \n",
       "1199        1199  Harvard Activists Say Theyre So Sorry for Post...   \n",
       "\n",
       "            Date      Time  Score  Number of Comments  \n",
       "0     2017-04-12  00:51:25  14938                6461  \n",
       "1     2017-04-12  15:12:43  11993                 809  \n",
       "2     2017-04-12  17:42:17   3119                 748  \n",
       "3     2017-04-12  14:14:59   5758                 518  \n",
       "4     2017-04-12  16:52:49   2993                 256  \n",
       "...          ...       ...    ...                 ...  \n",
       "1195  2017-04-19  21:20:57      3                  11  \n",
       "1196  2017-04-18  21:39:29    230                 101  \n",
       "1197  2017-04-19  00:19:27    139                  96  \n",
       "1198  2017-04-19  02:42:04     84                   3  \n",
       "1199  2017-04-18  16:49:43    508                 460  \n",
       "\n",
       "[4799 rows x 6 columns]"
      ]
     },
     "execution_count": 20,
     "metadata": {},
     "output_type": "execute_result"
    }
   ],
   "source": [
    "concat_topics"
   ]
  },
  {
   "cell_type": "code",
   "execution_count": 21,
   "metadata": {},
   "outputs": [
    {
     "data": {
      "text/plain": [
       "Unnamed: 0            0\n",
       "Title                 0\n",
       "Date                  0\n",
       "Time                  0\n",
       "Score                 0\n",
       "Number of Comments    0\n",
       "dtype: int64"
      ]
     },
     "execution_count": 21,
     "metadata": {},
     "output_type": "execute_result"
    }
   ],
   "source": [
    "frame_news = [uplifting_news, world_news]\n",
    "concat_news = pd.concat(frame_news)\n",
    "concat_news.isnull().sum()"
   ]
  },
  {
   "cell_type": "code",
   "execution_count": 22,
   "metadata": {},
   "outputs": [
    {
     "data": {
      "text/html": [
       "<div>\n",
       "<style scoped>\n",
       "    .dataframe tbody tr th:only-of-type {\n",
       "        vertical-align: middle;\n",
       "    }\n",
       "\n",
       "    .dataframe tbody tr th {\n",
       "        vertical-align: top;\n",
       "    }\n",
       "\n",
       "    .dataframe thead th {\n",
       "        text-align: right;\n",
       "    }\n",
       "</style>\n",
       "<table border=\"1\" class=\"dataframe\">\n",
       "  <thead>\n",
       "    <tr style=\"text-align: right;\">\n",
       "      <th></th>\n",
       "      <th>Unnamed: 0</th>\n",
       "      <th>Title</th>\n",
       "      <th>Date</th>\n",
       "      <th>Time</th>\n",
       "      <th>Score</th>\n",
       "      <th>Number of Comments</th>\n",
       "    </tr>\n",
       "  </thead>\n",
       "  <tbody>\n",
       "    <tr>\n",
       "      <th>0</th>\n",
       "      <td>0</td>\n",
       "      <td>The winners of the best of 2016 have been chos...</td>\n",
       "      <td>2017-02-02</td>\n",
       "      <td>00:36:57</td>\n",
       "      <td>566</td>\n",
       "      <td>229</td>\n",
       "    </tr>\n",
       "    <tr>\n",
       "      <th>1</th>\n",
       "      <td>1</td>\n",
       "      <td>Couple tips waitress $400, then offers to pay ...</td>\n",
       "      <td>2017-04-12</td>\n",
       "      <td>06:22:35</td>\n",
       "      <td>5472</td>\n",
       "      <td>645</td>\n",
       "    </tr>\n",
       "    <tr>\n",
       "      <th>2</th>\n",
       "      <td>2</td>\n",
       "      <td>Toyota introduces wearable robotic leg for pat...</td>\n",
       "      <td>2017-04-12</td>\n",
       "      <td>15:58:42</td>\n",
       "      <td>162</td>\n",
       "      <td>4</td>\n",
       "    </tr>\n",
       "    <tr>\n",
       "      <th>3</th>\n",
       "      <td>3</td>\n",
       "      <td>Firefighter Andrew Klein pulls unconscious dog...</td>\n",
       "      <td>2017-04-12</td>\n",
       "      <td>05:19:09</td>\n",
       "      <td>538</td>\n",
       "      <td>18</td>\n",
       "    </tr>\n",
       "    <tr>\n",
       "      <th>4</th>\n",
       "      <td>4</td>\n",
       "      <td>13 States (5 of which have no sales tax) No Lo...</td>\n",
       "      <td>2017-04-12</td>\n",
       "      <td>20:24:06</td>\n",
       "      <td>34</td>\n",
       "      <td>0</td>\n",
       "    </tr>\n",
       "    <tr>\n",
       "      <th>...</th>\n",
       "      <td>...</td>\n",
       "      <td>...</td>\n",
       "      <td>...</td>\n",
       "      <td>...</td>\n",
       "      <td>...</td>\n",
       "      <td>...</td>\n",
       "    </tr>\n",
       "    <tr>\n",
       "      <th>1195</th>\n",
       "      <td>1195</td>\n",
       "      <td>Saudi Arabia continuing air strikes in Yemen</td>\n",
       "      <td>2017-04-19</td>\n",
       "      <td>19:41:52</td>\n",
       "      <td>7</td>\n",
       "      <td>1</td>\n",
       "    </tr>\n",
       "    <tr>\n",
       "      <th>1196</th>\n",
       "      <td>1196</td>\n",
       "      <td>Sarin used in Syria - OPCW Director-General Sh...</td>\n",
       "      <td>2017-04-19</td>\n",
       "      <td>22:10:49</td>\n",
       "      <td>7</td>\n",
       "      <td>0</td>\n",
       "    </tr>\n",
       "    <tr>\n",
       "      <th>1197</th>\n",
       "      <td>1197</td>\n",
       "      <td>The Mother of All Bombs blast site is still of...</td>\n",
       "      <td>2017-04-19</td>\n",
       "      <td>22:02:40</td>\n",
       "      <td>4</td>\n",
       "      <td>1</td>\n",
       "    </tr>\n",
       "    <tr>\n",
       "      <th>1198</th>\n",
       "      <td>1198</td>\n",
       "      <td>Indian firms zika virus vaccine 100% efficient...</td>\n",
       "      <td>2017-04-18</td>\n",
       "      <td>09:01:57</td>\n",
       "      <td>5481</td>\n",
       "      <td>142</td>\n",
       "    </tr>\n",
       "    <tr>\n",
       "      <th>1199</th>\n",
       "      <td>1199</td>\n",
       "      <td>Bill OReilly Is Forced Out at Fox News</td>\n",
       "      <td>2017-04-19</td>\n",
       "      <td>22:52:00</td>\n",
       "      <td>5</td>\n",
       "      <td>2</td>\n",
       "    </tr>\n",
       "  </tbody>\n",
       "</table>\n",
       "<p>2400 rows × 6 columns</p>\n",
       "</div>"
      ],
      "text/plain": [
       "      Unnamed: 0                                              Title  \\\n",
       "0              0  The winners of the best of 2016 have been chos...   \n",
       "1              1  Couple tips waitress $400, then offers to pay ...   \n",
       "2              2  Toyota introduces wearable robotic leg for pat...   \n",
       "3              3  Firefighter Andrew Klein pulls unconscious dog...   \n",
       "4              4  13 States (5 of which have no sales tax) No Lo...   \n",
       "...          ...                                                ...   \n",
       "1195        1195       Saudi Arabia continuing air strikes in Yemen   \n",
       "1196        1196  Sarin used in Syria - OPCW Director-General Sh...   \n",
       "1197        1197  The Mother of All Bombs blast site is still of...   \n",
       "1198        1198  Indian firms zika virus vaccine 100% efficient...   \n",
       "1199        1199             Bill OReilly Is Forced Out at Fox News   \n",
       "\n",
       "            Date      Time  Score  Number of Comments  \n",
       "0     2017-02-02  00:36:57    566                 229  \n",
       "1     2017-04-12  06:22:35   5472                 645  \n",
       "2     2017-04-12  15:58:42    162                   4  \n",
       "3     2017-04-12  05:19:09    538                  18  \n",
       "4     2017-04-12  20:24:06     34                   0  \n",
       "...          ...       ...    ...                 ...  \n",
       "1195  2017-04-19  19:41:52      7                   1  \n",
       "1196  2017-04-19  22:10:49      7                   0  \n",
       "1197  2017-04-19  22:02:40      4                   1  \n",
       "1198  2017-04-18  09:01:57   5481                 142  \n",
       "1199  2017-04-19  22:52:00      5                   2  \n",
       "\n",
       "[2400 rows x 6 columns]"
      ]
     },
     "execution_count": 22,
     "metadata": {},
     "output_type": "execute_result"
    }
   ],
   "source": [
    "concat_news"
   ]
  },
  {
   "cell_type": "code",
   "execution_count": 23,
   "metadata": {},
   "outputs": [],
   "source": [
    "import warnings\n",
    "warnings.filterwarnings(\"ignore\", category=DeprecationWarning)\n",
    "warnings.filterwarnings(\"ignore\", category=FutureWarning)\n",
    "#concat_news tablosundaki title başlığındaki en sık kullanılan kelimeler\n",
    "#title daki emojiler, noktalama işaretleri vb. kaldırmak için;\n",
    "concat_news['Title'] = concat_news['Title'].str.replace('[^\\w\\s]','')\n",
    "#sayıları kaldırmak için;\n",
    "concat_news['Title'] =  concat_news['Title'].str.replace('[\\d]','')\n",
    "#İngilizcedeki stopwordsleri temizlemek için;\n",
    "import nltk\n",
    "#from nltk.download('stopwords')\n",
    "from nltk.corpus import stopwords\n",
    "sw = stopwords.words('english')\n",
    "concat_news['Title'] =  concat_news['Title'].apply(lambda x: \" \".join(x for x in x.split() if x not in sw))\n",
    "#lemmi\n",
    "from textblob import Word\n",
    "concat_news['Title'] =  concat_news['Title'].apply(lambda x: \" \".join([Word(word).lemmatize() for word in x.split()]))\n"
   ]
  },
  {
   "cell_type": "code",
   "execution_count": 24,
   "metadata": {
    "scrolled": false
   },
   "outputs": [],
   "source": [
    "#buyuk küçük harf dönüşümü\n",
    "concat_news['Title'] =  concat_news['Title'].apply(lambda x: \" \".join(x.lower() for x in x.split()))\n",
    "concat_news['Title'] =  concat_news['Title'].dropna()"
   ]
  },
  {
   "cell_type": "code",
   "execution_count": 25,
   "metadata": {
    "scrolled": true
   },
   "outputs": [
    {
     "data": {
      "image/png": "[encoded data removed]",
      "text/plain": [
       "<PIL.Image.Image image mode=RGB size=400x200 at 0x1DD9EA7ED60>"
      ]
     },
     "execution_count": 25,
     "metadata": {},
     "output_type": "execute_result"
    }
   ],
   "source": [
    "#en çok kullanılan kelimeler\n",
    "from wordcloud import WordCloud\n",
    "long_string = ','.join(list(concat_news['Title'].values))\n",
    "wordcloud = WordCloud(background_color=\"white\", max_words=5000, contour_width=3, contour_color='steelblue')\n",
    "wordcloud.generate(long_string)\n",
    "wordcloud.to_image()\n"
   ]
  },
  {
   "cell_type": "code",
   "execution_count": 26,
   "metadata": {},
   "outputs": [],
   "source": [
    "date_frequent = concat_news['Date'].value_counts()"
   ]
  },
  {
   "cell_type": "code",
   "execution_count": 27,
   "metadata": {},
   "outputs": [
    {
     "data": {
      "text/plain": [
       "2017-04-14    332\n",
       "2017-04-18    320\n",
       "2017-04-17    270\n",
       "2017-04-19    268\n",
       "2017-04-13    256\n",
       "2017-04-16    238\n",
       "2017-04-12    229\n",
       "2017-04-15    183\n",
       "2017-04-11    144\n",
       "2017-04-10     95\n",
       "2017-04-09     34\n",
       "2017-04-08     16\n",
       "2017-02-02     11\n",
       "2017-04-07      4\n",
       "Name: Date, dtype: int64"
      ]
     },
     "execution_count": 27,
     "metadata": {},
     "output_type": "execute_result"
    }
   ],
   "source": [
    "#yılların veya ayların dağılımını görmek için;\n",
    "date_frequent"
   ]
  },
  {
   "cell_type": "code",
   "execution_count": 28,
   "metadata": {
    "scrolled": false
   },
   "outputs": [
    {
     "data": {
      "image/png": "[encoded data removed]",
      "text/plain": [
       "<Figure size 432x288 with 1 Axes>"
      ]
     },
     "metadata": {
      "needs_background": "light"
     },
     "output_type": "display_data"
    }
   ],
   "source": [
    "#concat_news dataframe'inin hangi tarihler aralığında olduğunu bulmak için;\n",
    "import matplotlib.pyplot as plt\n",
    "plt.hist(concat_news['Date'],bins=50,color='#008080',label=\"Date\") \n",
    "plt.xlabel(\"Date\")\n",
    "plt.ylabel(\"Distribution\")\n",
    "plt.legend()\n",
    "plt.xticks(rotation=90)\n",
    "plt.title(\"Distribution of Date\")\n",
    "plt.show()"
   ]
  },
  {
   "cell_type": "code",
   "execution_count": 29,
   "metadata": {},
   "outputs": [
    {
     "data": {
      "text/html": [
       "<div>\n",
       "<style scoped>\n",
       "    .dataframe tbody tr th:only-of-type {\n",
       "        vertical-align: middle;\n",
       "    }\n",
       "\n",
       "    .dataframe tbody tr th {\n",
       "        vertical-align: top;\n",
       "    }\n",
       "\n",
       "    .dataframe thead th {\n",
       "        text-align: right;\n",
       "    }\n",
       "</style>\n",
       "<table border=\"1\" class=\"dataframe\">\n",
       "  <thead>\n",
       "    <tr style=\"text-align: right;\">\n",
       "      <th></th>\n",
       "      <th>Unnamed: 0</th>\n",
       "      <th>Trend</th>\n",
       "      <th>Date</th>\n",
       "      <th>Common Words</th>\n",
       "      <th>Common Pairs</th>\n",
       "      <th>Positive Score</th>\n",
       "      <th>Negative Score</th>\n",
       "    </tr>\n",
       "  </thead>\n",
       "  <tbody>\n",
       "    <tr>\n",
       "      <th>0</th>\n",
       "      <td>0</td>\n",
       "      <td>cheese</td>\n",
       "      <td>04/12/2017</td>\n",
       "      <td>[(u'cheese', 34), (u'grilled', 30), (u'happy',...</td>\n",
       "      <td>[((u'grilled', u'cheese'), 27), ((u'cheese', u...</td>\n",
       "      <td>0.56</td>\n",
       "      <td>0.19</td>\n",
       "    </tr>\n",
       "    <tr>\n",
       "      <th>1</th>\n",
       "      <td>1</td>\n",
       "      <td>election</td>\n",
       "      <td>04/12/2017</td>\n",
       "      <td>[(u'today', 5), (u'us', 5), (u'one', 4), (u'ta...</td>\n",
       "      <td>[((u'ben', u'carson'), 2), ((u'holy', u'spirit...</td>\n",
       "      <td>0.85</td>\n",
       "      <td>0.39</td>\n",
       "    </tr>\n",
       "    <tr>\n",
       "      <th>2</th>\n",
       "      <td>2</td>\n",
       "      <td>elevator</td>\n",
       "      <td>04/12/2017</td>\n",
       "      <td>[(u'carson', 67), (u'ben', 67), (u'elevator', ...</td>\n",
       "      <td>[((u'ben', u'carson'), 66), ((u'stuck', u'elev...</td>\n",
       "      <td>0.33</td>\n",
       "      <td>0.47</td>\n",
       "    </tr>\n",
       "    <tr>\n",
       "      <th>3</th>\n",
       "      <td>3</td>\n",
       "      <td>intended</td>\n",
       "      <td>04/12/2017</td>\n",
       "      <td>[(u'trump', 11), (u'press', 9), (u'team', 6), ...</td>\n",
       "      <td>[((u'team', u'america'), 6), ((u'war', u'nk'),...</td>\n",
       "      <td>0.45</td>\n",
       "      <td>0.69</td>\n",
       "    </tr>\n",
       "    <tr>\n",
       "      <th>4</th>\n",
       "      <td>4</td>\n",
       "      <td>fact</td>\n",
       "      <td>04/12/2017</td>\n",
       "      <td>[(u'place', 11), (u'people', 8), (u'like', 5),...</td>\n",
       "      <td>[((u'place', u'people'), 3), ((u'high', u'scho...</td>\n",
       "      <td>0.48</td>\n",
       "      <td>0.49</td>\n",
       "    </tr>\n",
       "  </tbody>\n",
       "</table>\n",
       "</div>"
      ],
      "text/plain": [
       "   Unnamed: 0     Trend        Date  \\\n",
       "0           0    cheese  04/12/2017   \n",
       "1           1  election  04/12/2017   \n",
       "2           2  elevator  04/12/2017   \n",
       "3           3  intended  04/12/2017   \n",
       "4           4      fact  04/12/2017   \n",
       "\n",
       "                                        Common Words  \\\n",
       "0  [(u'cheese', 34), (u'grilled', 30), (u'happy',...   \n",
       "1  [(u'today', 5), (u'us', 5), (u'one', 4), (u'ta...   \n",
       "2  [(u'carson', 67), (u'ben', 67), (u'elevator', ...   \n",
       "3  [(u'trump', 11), (u'press', 9), (u'team', 6), ...   \n",
       "4  [(u'place', 11), (u'people', 8), (u'like', 5),...   \n",
       "\n",
       "                                        Common Pairs  Positive Score  \\\n",
       "0  [((u'grilled', u'cheese'), 27), ((u'cheese', u...            0.56   \n",
       "1  [((u'ben', u'carson'), 2), ((u'holy', u'spirit...            0.85   \n",
       "2  [((u'ben', u'carson'), 66), ((u'stuck', u'elev...            0.33   \n",
       "3  [((u'team', u'america'), 6), ((u'war', u'nk'),...            0.45   \n",
       "4  [((u'place', u'people'), 3), ((u'high', u'scho...            0.48   \n",
       "\n",
       "   Negative Score  \n",
       "0            0.19  \n",
       "1            0.39  \n",
       "2            0.47  \n",
       "3            0.69  \n",
       "4            0.49  "
      ]
     },
     "execution_count": 29,
     "metadata": {},
     "output_type": "execute_result"
    }
   ],
   "source": [
    "twitter.head()"
   ]
  },
  {
   "cell_type": "code",
   "execution_count": 30,
   "metadata": {},
   "outputs": [],
   "source": [
    "#yorumlardaki -varsa- emojileri, tırnak işaretlerini siliyoruz\n",
    "twitter[\"Trend\"] = twitter[\"Trend\"].str.replace('[^\\w\\s]', '')\n",
    "\n",
    "# sayılar\n",
    "twitter[\"Trend\"] = twitter[\"Trend\"].str.replace('[\\d]', '') \n",
    "\n",
    "#stopwords temizliyoruz\n",
    "twitter[\"Trend\"] = twitter[\"Trend\"].astype(str)\n",
    "twitter[\"Trend\"] = twitter[\"Trend\"].apply(lambda x: \"\".join(x for x in x.split() if x not in sw))\n",
    "\n",
    "#lemmi\n",
    "twitter[\"Trend\"] = twitter[\"Trend\"].apply(lambda x: \"\".join([Word(word).lemmatize() for word in x.split()]))\n",
    "\n",
    "#buyuk-kucuk harf esitleme\n",
    "twitter[\"Trend\"] = twitter[\"Trend\"].apply(lambda x: \"\".join(x.lower() for x in x.split()))"
   ]
  },
  {
   "cell_type": "code",
   "execution_count": 31,
   "metadata": {},
   "outputs": [],
   "source": [
    "#sentimental analiz\n",
    "from textblob import TextBlob\n",
    "twitter[\"sentiment\"] = twitter[\"Trend\"].map(lambda x: TextBlob(x).sentiment.polarity)\n",
    "for i in twitter[\"sentiment\"]:\n",
    "    if i < 0:\n",
    "        twitter[\"sentiment\"].replace(to_replace = i, value = \"Negative\", inplace= True)\n",
    "    elif i > 0: \n",
    "        twitter[\"sentiment\"].replace(to_replace = i, value = \"Positive\", inplace= True)\n",
    "    else:\n",
    "        twitter[\"sentiment\"].replace(to_replace = i, value = \"Notr\", inplace= True)"
   ]
  },
  {
   "cell_type": "code",
   "execution_count": 32,
   "metadata": {},
   "outputs": [
    {
     "data": {
      "text/plain": [
       "0"
      ]
     },
     "execution_count": 32,
     "metadata": {},
     "output_type": "execute_result"
    }
   ],
   "source": [
    "twitter[\"sentiment\"].isnull().sum()"
   ]
  },
  {
   "cell_type": "code",
   "execution_count": 33,
   "metadata": {},
   "outputs": [
    {
     "data": {
      "image/png": "[encoded data removed]",
      "text/plain": [
       "<Figure size 432x288 with 1 Axes>"
      ]
     },
     "metadata": {
      "needs_background": "light"
     },
     "output_type": "display_data"
    }
   ],
   "source": [
    "plt.hist(twitter[\"sentiment\"],bins=50,color='#008080',label=\"sentiment\") \n",
    "plt.xlabel(\"Sentiment\")\n",
    "plt.ylabel(\"Count\")\n",
    "plt.legend()\n",
    "plt.title(\"Distribution of the Sentiment of Trend\")\n",
    "plt.show()"
   ]
  },
  {
   "cell_type": "code",
   "execution_count": 34,
   "metadata": {},
   "outputs": [
    {
     "data": {
      "text/plain": [
       "via       10\n",
       "game       4\n",
       "year       4\n",
       "           3\n",
       "time       3\n",
       "series     3\n",
       "jumper     2\n",
       "min        2\n",
       "draft      2\n",
       "sign       2\n",
       "Name: Trend, dtype: int64"
      ]
     },
     "execution_count": 34,
     "metadata": {},
     "output_type": "execute_result"
    }
   ],
   "source": [
    "trend_frequent = twitter['Trend'].value_counts()\n",
    "trend_frequent = trend_frequent.head(10)\n",
    "trend_frequent"
   ]
  },
  {
   "cell_type": "code",
   "execution_count": 35,
   "metadata": {},
   "outputs": [
    {
     "data": {
      "image/png": "[encoded data removed]",
      "text/plain": [
       "<Figure size 432x288 with 1 Axes>"
      ]
     },
     "metadata": {
      "needs_background": "light"
     },
     "output_type": "display_data"
    }
   ],
   "source": [
    "trend_frequent.plot(kind='barh');\n"
   ]
  },
  {
   "cell_type": "code",
   "execution_count": 36,
   "metadata": {},
   "outputs": [
    {
     "data": {
      "image/png": "[encoded data removed]",
      "text/plain": [
       "<Figure size 432x288 with 1 Axes>"
      ]
     },
     "metadata": {},
     "output_type": "display_data"
    }
   ],
   "source": [
    "#twitterda trend olan başlıklarda en çok geçen kelimeler\n",
    "positive = twitter['Positive Score'].sum()\n",
    "negative = twitter['Negative Score'].sum()\n",
    "x =np.array([\"positive\",\"negative\"])\n",
    "y= np.array([positive, negative])\n",
    "plt.title(\"SCORE\")\n",
    "pie = plt.pie(y,autopct='%1.1f%%', startangle=90)\n",
    "plt.axis('equal')\n",
    "plt.legend( loc = 'right', labels=x)\n",
    "plt.show()"
   ]
  },
  {
   "cell_type": "code",
   "execution_count": 37,
   "metadata": {},
   "outputs": [
    {
     "data": {
      "text/html": [
       "<div>\n",
       "<style scoped>\n",
       "    .dataframe tbody tr th:only-of-type {\n",
       "        vertical-align: middle;\n",
       "    }\n",
       "\n",
       "    .dataframe tbody tr th {\n",
       "        vertical-align: top;\n",
       "    }\n",
       "\n",
       "    .dataframe thead th {\n",
       "        text-align: right;\n",
       "    }\n",
       "</style>\n",
       "<table border=\"1\" class=\"dataframe\">\n",
       "  <thead>\n",
       "    <tr style=\"text-align: right;\">\n",
       "      <th></th>\n",
       "      <th>Unnamed: 0</th>\n",
       "      <th>Title</th>\n",
       "      <th>Date</th>\n",
       "      <th>Time</th>\n",
       "      <th>Score</th>\n",
       "      <th>Number of Comments</th>\n",
       "    </tr>\n",
       "  </thead>\n",
       "  <tbody>\n",
       "    <tr>\n",
       "      <th>0</th>\n",
       "      <td>0</td>\n",
       "      <td>Megathread: Sean Spicer WWII gaffe</td>\n",
       "      <td>2017-04-12</td>\n",
       "      <td>00:51:25</td>\n",
       "      <td>14938</td>\n",
       "      <td>6461</td>\n",
       "    </tr>\n",
       "    <tr>\n",
       "      <th>1</th>\n",
       "      <td>1</td>\n",
       "      <td>Manafort Firm Received Ukraine Ledger Payout</td>\n",
       "      <td>2017-04-12</td>\n",
       "      <td>15:12:43</td>\n",
       "      <td>11993</td>\n",
       "      <td>809</td>\n",
       "    </tr>\n",
       "    <tr>\n",
       "      <th>2</th>\n",
       "      <td>2</td>\n",
       "      <td>Its not too late to get rid of FBI Director Ja...</td>\n",
       "      <td>2017-04-12</td>\n",
       "      <td>17:42:17</td>\n",
       "      <td>3119</td>\n",
       "      <td>748</td>\n",
       "    </tr>\n",
       "    <tr>\n",
       "      <th>3</th>\n",
       "      <td>3</td>\n",
       "      <td>Donald Trump, who doesnt read books, is ignora...</td>\n",
       "      <td>2017-04-12</td>\n",
       "      <td>14:14:59</td>\n",
       "      <td>5758</td>\n",
       "      <td>518</td>\n",
       "    </tr>\n",
       "    <tr>\n",
       "      <th>4</th>\n",
       "      <td>4</td>\n",
       "      <td>Did he or didnt he? Trump contradicts himself ...</td>\n",
       "      <td>2017-04-12</td>\n",
       "      <td>16:52:49</td>\n",
       "      <td>2993</td>\n",
       "      <td>256</td>\n",
       "    </tr>\n",
       "    <tr>\n",
       "      <th>5</th>\n",
       "      <td>5</td>\n",
       "      <td>Trump lists Carter Page among his foreign poli...</td>\n",
       "      <td>2017-04-12</td>\n",
       "      <td>17:14:42</td>\n",
       "      <td>2018</td>\n",
       "      <td>58</td>\n",
       "    </tr>\n",
       "    <tr>\n",
       "      <th>6</th>\n",
       "      <td>6</td>\n",
       "      <td>Is Stephen Bannon getting pushed out? The late...</td>\n",
       "      <td>2017-04-12</td>\n",
       "      <td>18:17:28</td>\n",
       "      <td>1227</td>\n",
       "      <td>129</td>\n",
       "    </tr>\n",
       "    <tr>\n",
       "      <th>7</th>\n",
       "      <td>7</td>\n",
       "      <td>Silicon Valley is beginning to fight the Trump...</td>\n",
       "      <td>2017-04-12</td>\n",
       "      <td>15:55:31</td>\n",
       "      <td>1823</td>\n",
       "      <td>84</td>\n",
       "    </tr>\n",
       "    <tr>\n",
       "      <th>8</th>\n",
       "      <td>8</td>\n",
       "      <td>Theres proof that ex-Trump campaign manager Pa...</td>\n",
       "      <td>2017-04-12</td>\n",
       "      <td>16:57:03</td>\n",
       "      <td>1370</td>\n",
       "      <td>20</td>\n",
       "    </tr>\n",
       "    <tr>\n",
       "      <th>9</th>\n",
       "      <td>9</td>\n",
       "      <td>TMZ catches Paul Ryan vacationing at Universal...</td>\n",
       "      <td>2017-04-12</td>\n",
       "      <td>17:50:41</td>\n",
       "      <td>1090</td>\n",
       "      <td>99</td>\n",
       "    </tr>\n",
       "  </tbody>\n",
       "</table>\n",
       "</div>"
      ],
      "text/plain": [
       "   Unnamed: 0                                              Title        Date  \\\n",
       "0           0                 Megathread: Sean Spicer WWII gaffe  2017-04-12   \n",
       "1           1       Manafort Firm Received Ukraine Ledger Payout  2017-04-12   \n",
       "2           2  Its not too late to get rid of FBI Director Ja...  2017-04-12   \n",
       "3           3  Donald Trump, who doesnt read books, is ignora...  2017-04-12   \n",
       "4           4  Did he or didnt he? Trump contradicts himself ...  2017-04-12   \n",
       "5           5  Trump lists Carter Page among his foreign poli...  2017-04-12   \n",
       "6           6  Is Stephen Bannon getting pushed out? The late...  2017-04-12   \n",
       "7           7  Silicon Valley is beginning to fight the Trump...  2017-04-12   \n",
       "8           8  Theres proof that ex-Trump campaign manager Pa...  2017-04-12   \n",
       "9           9  TMZ catches Paul Ryan vacationing at Universal...  2017-04-12   \n",
       "\n",
       "       Time  Score  Number of Comments  \n",
       "0  00:51:25  14938                6461  \n",
       "1  15:12:43  11993                 809  \n",
       "2  17:42:17   3119                 748  \n",
       "3  14:14:59   5758                 518  \n",
       "4  16:52:49   2993                 256  \n",
       "5  17:14:42   2018                  58  \n",
       "6  18:17:28   1227                 129  \n",
       "7  15:55:31   1823                  84  \n",
       "8  16:57:03   1370                  20  \n",
       "9  17:50:41   1090                  99  "
      ]
     },
     "execution_count": 37,
     "metadata": {},
     "output_type": "execute_result"
    }
   ],
   "source": [
    "concat_topics = pd.concat(frame_topics)\n",
    "concat_topics.isnull().sum()\n",
    "concat_topics.head(10)"
   ]
  },
  {
   "cell_type": "code",
   "execution_count": 38,
   "metadata": {},
   "outputs": [
    {
     "data": {
      "image/png": "[encoded data removed]",
      "text/plain": [
       "<Figure size 432x288 with 1 Axes>"
      ]
     },
     "metadata": {
      "needs_background": "light"
     },
     "output_type": "display_data"
    }
   ],
   "source": [
    "#tarih dağılımını öğrenmek için;\n",
    "plt.hist(concat_topics['Date'],bins=50,color='#008080',label=\"Date\") \n",
    "plt.xlabel(\"Date\")\n",
    "plt.ylabel(\"Distribution\")\n",
    "plt.legend()\n",
    "plt.xticks(rotation=90)\n",
    "plt.title(\"Distribution of Date\")\n",
    "plt.show()"
   ]
  },
  {
   "cell_type": "code",
   "execution_count": 39,
   "metadata": {},
   "outputs": [],
   "source": [
    "#yorumlardaki -varsa- emojileri, tırnak işaretlerini siliyoruz\n",
    "concat_topics['Title'] =concat_topics['Title'].str.replace('[^\\w\\s]', '')\n",
    "\n",
    "# sayılar\n",
    "concat_topics['Title'] = concat_topics['Title'].str.replace('[\\d]', '') \n",
    "\n",
    "#stopwords temizliyoruz\n",
    "concat_topics['Title'] = concat_topics['Title'].astype(str)\n",
    "concat_topics['Title'] = concat_topics['Title'].apply(lambda x: \" \".join(x for x in x.split() if x not in sw))\n",
    "\n",
    "#lemmi \n",
    "concat_topics['Title'] = concat_topics['Title'].apply(lambda x: \" \".join([Word(word).lemmatize() for word in x.split()]))\n",
    "\n",
    "#buyuk-kucuk harf esitleme\n",
    "concat_topics['Title'] = concat_topics['Title'].apply(lambda x: \" \".join(x.lower() for x in x.split()))\n",
    "#sentimental analiz\n",
    "concat_topics[\"sentiment\"] =concat_topics['Title'].map(lambda x: TextBlob(x).sentiment.polarity)\n",
    "for i in concat_topics[\"sentiment\"]:\n",
    "    if i < 0:\n",
    "        concat_topics[\"sentiment\"].replace(to_replace = i, value = \"Negative\", inplace= True)\n",
    "    elif i > 0: \n",
    "        concat_topics[\"sentiment\"].replace(to_replace = i, value = \"Positive\", inplace= True)\n",
    "    else:\n",
    "        concat_topics[\"sentiment\"].replace(to_replace = i, value = \"Notr\", inplace= True)"
   ]
  },
  {
   "cell_type": "code",
   "execution_count": 40,
   "metadata": {},
   "outputs": [
    {
     "data": {
      "image/png": "[encoded data removed]",
      "text/plain": [
       "<Figure size 432x288 with 1 Axes>"
      ]
     },
     "metadata": {
      "needs_background": "light"
     },
     "output_type": "display_data"
    }
   ],
   "source": [
    "#sosyal medya platformunda yapılan yorumların sentiment analiz grafiği\n",
    "concat_topics[\"sentiment\"]\n",
    "plot_bar = concat_topics[\"sentiment\"].value_counts().plot(kind= \"bar\")\n",
    "plt.xlabel(\"Sentiment\")\n",
    "plt.ylabel(\"Count\")\n",
    "plt.legend()\n",
    "plt.title(\"Distribution of Sentiments\")\n",
    "plt.show()"
   ]
  },
  {
   "cell_type": "code",
   "execution_count": 41,
   "metadata": {
    "scrolled": true
   },
   "outputs": [
    {
     "data": {
      "image/png": "[encoded data removed]",
      "text/plain": [
       "<Figure size 432x288 with 1 Axes>"
      ]
     },
     "metadata": {
      "needs_background": "light"
     },
     "output_type": "display_data"
    }
   ],
   "source": [
    "plt.hist(twitter['Date'],bins=50,color='#008080',label=\"Date\") \n",
    "plt.xlabel(\"Date\")\n",
    "plt.ylabel(\"Distribution\")\n",
    "plt.legend()\n",
    "plt.xticks(rotation=90)\n",
    "plt.title(\"Distribution of Date\")\n",
    "plt.show()"
   ]
  },
  {
   "cell_type": "code",
   "execution_count": 42,
   "metadata": {},
   "outputs": [
    {
     "name": "stdout",
     "output_type": "stream",
     "text": [
      "0.Pfizer says Covid vaccine more than 90% effective in kids - CNBC\n",
      "1.5 things to know before the stock market opens Friday - CNBC\n",
      "2.Alec Baldwin fatally shoots woman with prop gun on movie set - BBC News - BBC News\n",
      "3.GTA Trilogy release date confirmed via the Rockstar Store - Gamesradar\n",
      "4.Young People, Especially Young Women, Are Reporting Concerning Medical And Behavioral Changes Due To Social Media, And I Hope We’re Paying Attention - BuzzFeed News\n",
      "5.Qaddafi's Son Is Alive, and He Wants to Take Back Libya - The New York Times\n",
      "6.'This stuff won't go away': PFAS chemicals contaminate Wisconsin's waterways and soil - The Guardian Australia\n",
      "7.Meeting Bennett, Putin says he aims to continue warm ties forged under Netanyahu - The Times of Israel\n",
      "8.White House shrinks economic package from climate to housing - The Washington Post\n",
      "9.Hackers broke into Donald Trump's upcoming social media site, creating fake accounts for Trump and Steve Bannon and posting a photo of a defecating pig - Yahoo News\n",
      "10.D'Ernest Johnson: Three years ago, he was working on a fishing boat. Now, Cleveland Browns running back is a match-winning NFL player - CNN\n",
      "11.Facebook and other internet stocks under pressure after Snap gloom - MarketWatch\n",
      "12.Duran Duran drop their 15th album, four decades after making their debut - CNN\n",
      "13.They refused to pay rent and stole the fridge. Landlords deal with pandemic squatters - NPR\n",
      "14.Russia Strengthens Its Internet Censorship Powers - The New York Times\n",
      "15.Hundreds of kids and their families are riding a bicycle bus to school in Barcelona - NPR\n",
      "16.How Russia Is Cashing In on Climate Change - The New York Times\n",
      "17.China vows no concessions on Taiwan after Biden comments - Associated Press\n",
      "18.Jamie Lynn Spears Says Parents Pushed Abortion, Warned Giving Birth Would Ruin Career - TMZ\n",
      "19.Chris Taylor keeps Los Angeles Dodgers alive with three homers in Game 5 win - ESPN\n",
      "\n"
     ]
    }
   ],
   "source": [
    "#news api üzerinden alınan haberlerin title'ları\n",
    "import csv\n",
    "import requests\n",
    "def getNews():\n",
    "    api_key= \"279443b4c3b34d57b3d25758f77fc26e\"\n",
    "    url =\"https://newsapi.org/v2/top-headlines?country=us&apiKey=\"+api_key\n",
    "    news = requests.get(url).json()\n",
    "\n",
    "    articles = news[\"articles\"]\n",
    "\n",
    "    my_articles = []\n",
    "    my_news = \"\"\n",
    "\n",
    "    for article in articles:\n",
    "        my_articles.append(article[\"title\"])\n",
    "    for i in range(20):\n",
    "        my_news = my_news + str(i) + \".\" + my_articles[i] + \"\\n\"\n",
    "    print(my_news)\n",
    "getNews()\n",
    "\n",
    "import csv\n",
    "\n",
    "# dosyayı açıp w ile yazıyoruz\n",
    "header = ['index', 'title', 'platform']\n",
    "data= [\n",
    "    [0,'Moscow is going back into lockdown as Covid-19 deaths multiply in Russia','CNN'],\n",
    "    [1,' Joe Manchins child tax credit changes could prevent more than 37 million children from getting aid', 'CNBC'],\n",
    "    [3, 'Ex-Minneapolis police officer resentenced to 57 months in prison for killing 911 caller ', 'NBC News'],\n",
    "    [4, 'Poland clash set to take center stage at EU summit despite energy crisis' , 'CNBC'],\n",
    "    [5, 'Red Sox fans chant *F--k Joe Biden* after loss to Astros' ,' New York Post' ],\n",
    "    [6, ' New 14-Inch and 16-Inch MacBook Pro Orders Now -Preparing to Ship-', 'MacRumors'],\n",
    "    [7,'Xi Jinping Hasn’t Left China in 21 Months, Keeping Diplomacy Virtual' ,' The Wall Street Journal'],\n",
    "    [8,'Dave Chappelle Fans and Netflix Employees Clash During Walkout; Comedian Says He’ll Do 10-City U.S. Tour if Th' , 'The Root'],\n",
    "    [9,'Gotham Awards Nominations: ‘The Lost Daughter’, ‘Passing’ Lead Way – Complete List' ,'Deadline'],\n",
    "    [10,'Trading in Trump-linked SPAC Digital World Acquisition halted briefly, shares soar 180% on news of social media deal' ,'CNBC'],\n",
    "    [11,'Gold price remains under pressure following 7% rise in U.S. existing home sales' , 'Kitco NEWS'],\n",
    "    [12,'White House, intelligence agencies, Pentagon issue reports warning climate change threatens global security', 'The Washington Post'],\n",
    "    [13,'Cardi B and Penn Badgley are the Twitter friendship we didnt know we needed' , 'CNN'],\n",
    "    [14,'Oversight board condemns Facebook for withholding information on how it moderates VIPs' , 'CNBC'],\n",
    "    [15,'Fantasy Football Rankings Week 7, 2021: Proven model says start Antonio Brown, sit Joe Burrow' ,'CBSSports.com'],\n",
    "    [16,'5 Veterans Quit Kyrsten Sinemas Advisory Council' , 'The New York Times'],\n",
    "    [17,'Braves at Dodgers Game 5 picks: Expert selections, odds as Atlanta tries to finish off the NLCS' , 'The Athletic'],\n",
    "    [18,'Democrats Campaign to Control Drug Prices Nears Collapse' , 'The New York Times'],\n",
    "    [19, 'American, Southwest, and Alaska Air Just Reported Earnings. What to Know.' , 'Barrons'],\n",
    "    \n",
    "]\n",
    "with open('C:/Users/Lenovo/archive/newsapi.csv', 'w', encoding='UTF8') as f:\n",
    "    # csv writer yaratır\n",
    "    writer = csv.writer(f)\n",
    "    #header'ı yazdırır\n",
    "    writer.writerow(header)\n",
    "\n",
    "    #birden fazla satır yazdırır\n",
    "    writer.writerows(data)\n"
   ]
  },
  {
   "cell_type": "code",
   "execution_count": 43,
   "metadata": {},
   "outputs": [],
   "source": [
    "#news api üzerinden alınan title'ları temizleme işleme\n",
    "newsapi =pd.read_csv(r'C:/Users/Lenovo/archive/newsapi.csv',  encoding='latin-1')\n",
    "#yorumlardaki -varsa- emojileri, tırnak işaretlerini siliyoruz\n",
    "newsapi['title'] =newsapi['title'].str.replace('[^\\w\\s]', '')\n",
    "\n",
    "# sayılar\n",
    "newsapi['title'] =newsapi['title'].str.replace('[\\d]', '') \n",
    "\n",
    "#stopwords temizliyoruz\n",
    "newsapi['title'] =newsapi['title'].astype(str)\n",
    "newsapi['title'] =newsapi['title'].apply(lambda x: \" \".join(x for x in x.split() if x not in sw))\n",
    "\n",
    "#lemmi \n",
    "newsapi['title'] =newsapi['title'].apply(lambda x: \" \".join([Word(word).lemmatize() for word in x.split()]))\n",
    "\n",
    "#buyuk-kucuk harf esitleme\n",
    "newsapi['title'] =newsapi['title'].apply(lambda x: \" \".join(x.lower() for x in x.split()))\n",
    "\n",
    "\n"
   ]
  },
  {
   "cell_type": "code",
   "execution_count": 44,
   "metadata": {},
   "outputs": [
    {
     "data": {
      "image/png": "[encoded data removed]",
      "text/plain": [
       "<PIL.Image.Image image mode=RGB size=400x200 at 0x1DD85A0AF70>"
      ]
     },
     "execution_count": 44,
     "metadata": {},
     "output_type": "execute_result"
    }
   ],
   "source": [
    "#news api üzerinden alınan haber title'larında en çok kullanılan kelimeler\n",
    "from wordcloud import WordCloud\n",
    "long_string = ','.join(list(newsapi['title'].values))\n",
    "wordcloud = WordCloud(background_color=\"white\", max_words=5000, contour_width=3, contour_color='steelblue')\n",
    "wordcloud.generate(long_string)\n",
    "wordcloud.to_image()"
   ]
  },
  {
   "cell_type": "code",
   "execution_count": 45,
   "metadata": {
    "scrolled": true
   },
   "outputs": [
    {
     "name": "stdout",
     "output_type": "stream",
     "text": [
      "<FreqDist with 186 samples and 194 outcomes>\n"
     ]
    },
    {
     "data": {
      "text/html": [
       "<div>\n",
       "<style scoped>\n",
       "    .dataframe tbody tr th:only-of-type {\n",
       "        vertical-align: middle;\n",
       "    }\n",
       "\n",
       "    .dataframe tbody tr th {\n",
       "        vertical-align: top;\n",
       "    }\n",
       "\n",
       "    .dataframe thead th {\n",
       "        text-align: right;\n",
       "    }\n",
       "</style>\n",
       "<table border=\"1\" class=\"dataframe\">\n",
       "  <thead>\n",
       "    <tr style=\"text-align: right;\">\n",
       "      <th></th>\n",
       "      <th>Word</th>\n",
       "      <th>Frequency</th>\n",
       "    </tr>\n",
       "  </thead>\n",
       "  <tbody>\n",
       "    <tr>\n",
       "      <th>0</th>\n",
       "      <td>joe</td>\n",
       "      <td>3</td>\n",
       "    </tr>\n",
       "    <tr>\n",
       "      <th>1</th>\n",
       "      <td>child</td>\n",
       "      <td>2</td>\n",
       "    </tr>\n",
       "    <tr>\n",
       "      <th>2</th>\n",
       "      <td>change</td>\n",
       "      <td>2</td>\n",
       "    </tr>\n",
       "    <tr>\n",
       "      <th>3</th>\n",
       "      <td>clash</td>\n",
       "      <td>2</td>\n",
       "    </tr>\n",
       "    <tr>\n",
       "      <th>4</th>\n",
       "      <td>inch</td>\n",
       "      <td>2</td>\n",
       "    </tr>\n",
       "    <tr>\n",
       "      <th>5</th>\n",
       "      <td>us</td>\n",
       "      <td>2</td>\n",
       "    </tr>\n",
       "    <tr>\n",
       "      <th>6</th>\n",
       "      <td>know</td>\n",
       "      <td>2</td>\n",
       "    </tr>\n",
       "    <tr>\n",
       "      <th>7</th>\n",
       "      <td>moscow</td>\n",
       "      <td>1</td>\n",
       "    </tr>\n",
       "    <tr>\n",
       "      <th>8</th>\n",
       "      <td>going</td>\n",
       "      <td>1</td>\n",
       "    </tr>\n",
       "    <tr>\n",
       "      <th>9</th>\n",
       "      <td>back</td>\n",
       "      <td>1</td>\n",
       "    </tr>\n",
       "  </tbody>\n",
       "</table>\n",
       "</div>"
      ],
      "text/plain": [
       "     Word  Frequency\n",
       "0     joe          3\n",
       "1   child          2\n",
       "2  change          2\n",
       "3   clash          2\n",
       "4    inch          2\n",
       "5      us          2\n",
       "6    know          2\n",
       "7  moscow          1\n",
       "8   going          1\n",
       "9    back          1"
      ]
     },
     "execution_count": 45,
     "metadata": {},
     "output_type": "execute_result"
    }
   ],
   "source": [
    "wordstring = newsapi['title']\n",
    "\n",
    "top_N = 10\n",
    "#tüm title'ları küçük harfe dönüştürür\n",
    "a = newsapi['title'].str.lower().str.cat(sep=' ')\n",
    "words = nltk.tokenize.word_tokenize(a)\n",
    "word_dist = nltk.FreqDist(words)\n",
    "print (word_dist)\n",
    "\n",
    "\n",
    "rslt = pd.DataFrame(word_dist.most_common(top_N),\n",
    "                    columns=['Word', 'Frequency'])\n",
    "rslt"
   ]
  },
  {
   "cell_type": "code",
   "execution_count": 46,
   "metadata": {
    "scrolled": true
   },
   "outputs": [
    {
     "data": {
      "text/plain": [
       "<AxesSubplot:xlabel='Word'>"
      ]
     },
     "execution_count": 46,
     "metadata": {},
     "output_type": "execute_result"
    },
    {
     "data": {
      "image/png": "[encoded data removed]",
      "text/plain": [
       "<Figure size 432x288 with 1 Axes>"
      ]
     },
     "metadata": {
      "needs_background": "light"
     },
     "output_type": "display_data"
    }
   ],
   "source": [
    "rslt.plot(x='Word', y = 'Frequency', kind= 'bar')"
   ]
  },
  {
   "cell_type": "code",
   "execution_count": 47,
   "metadata": {
    "scrolled": true
   },
   "outputs": [
    {
     "name": "stdout",
     "output_type": "stream",
     "text": [
      "<FreqDist with 4258 samples and 24502 outcomes>\n"
     ]
    },
    {
     "data": {
      "text/html": [
       "<div>\n",
       "<style scoped>\n",
       "    .dataframe tbody tr th:only-of-type {\n",
       "        vertical-align: middle;\n",
       "    }\n",
       "\n",
       "    .dataframe tbody tr th {\n",
       "        vertical-align: top;\n",
       "    }\n",
       "\n",
       "    .dataframe thead th {\n",
       "        text-align: right;\n",
       "    }\n",
       "</style>\n",
       "<table border=\"1\" class=\"dataframe\">\n",
       "  <thead>\n",
       "    <tr style=\"text-align: right;\">\n",
       "      <th></th>\n",
       "      <th>Word</th>\n",
       "      <th>Frequency</th>\n",
       "    </tr>\n",
       "  </thead>\n",
       "  <tbody>\n",
       "    <tr>\n",
       "      <th>0</th>\n",
       "      <td>us</td>\n",
       "      <td>230</td>\n",
       "    </tr>\n",
       "    <tr>\n",
       "      <th>1</th>\n",
       "      <td>north</td>\n",
       "      <td>223</td>\n",
       "    </tr>\n",
       "    <tr>\n",
       "      <th>2</th>\n",
       "      <td>korea</td>\n",
       "      <td>199</td>\n",
       "    </tr>\n",
       "    <tr>\n",
       "      <th>3</th>\n",
       "      <td>the</td>\n",
       "      <td>151</td>\n",
       "    </tr>\n",
       "    <tr>\n",
       "      <th>4</th>\n",
       "      <td>say</td>\n",
       "      <td>147</td>\n",
       "    </tr>\n",
       "    <tr>\n",
       "      <th>5</th>\n",
       "      <td>new</td>\n",
       "      <td>130</td>\n",
       "    </tr>\n",
       "    <tr>\n",
       "      <th>6</th>\n",
       "      <td>trump</td>\n",
       "      <td>116</td>\n",
       "    </tr>\n",
       "    <tr>\n",
       "      <th>7</th>\n",
       "      <td>man</td>\n",
       "      <td>107</td>\n",
       "    </tr>\n",
       "    <tr>\n",
       "      <th>8</th>\n",
       "      <td>first</td>\n",
       "      <td>96</td>\n",
       "    </tr>\n",
       "    <tr>\n",
       "      <th>9</th>\n",
       "      <td>child</td>\n",
       "      <td>91</td>\n",
       "    </tr>\n",
       "  </tbody>\n",
       "</table>\n",
       "</div>"
      ],
      "text/plain": [
       "    Word  Frequency\n",
       "0     us        230\n",
       "1  north        223\n",
       "2  korea        199\n",
       "3    the        151\n",
       "4    say        147\n",
       "5    new        130\n",
       "6  trump        116\n",
       "7    man        107\n",
       "8  first         96\n",
       "9  child         91"
      ]
     },
     "execution_count": 47,
     "metadata": {},
     "output_type": "execute_result"
    }
   ],
   "source": [
    "#2017 yılındaki title'larda en çok tekrarlanan kelimeleri grafiğe dökmek için;\n",
    "wordstring = concat_news['Title']\n",
    "\n",
    "top_N = 10\n",
    "\n",
    "a = concat_news['Title'].str.lower().str.cat(sep=' ')\n",
    "words = nltk.tokenize.word_tokenize(a)\n",
    "word_dist = nltk.FreqDist(words)\n",
    "print (word_dist)\n",
    "\n",
    "\n",
    "rslt = pd.DataFrame(word_dist.most_common(top_N),\n",
    "                    columns=['Word', 'Frequency'])\n",
    "rslt\n"
   ]
  },
  {
   "cell_type": "code",
   "execution_count": 48,
   "metadata": {},
   "outputs": [
    {
     "data": {
      "text/plain": [
       "<AxesSubplot:xlabel='Word'>"
      ]
     },
     "execution_count": 48,
     "metadata": {},
     "output_type": "execute_result"
    },
    {
     "data": {
      "image/png": "[encoded data removed]",
      "text/plain": [
       "<Figure size 432x288 with 1 Axes>"
      ]
     },
     "metadata": {
      "needs_background": "light"
     },
     "output_type": "display_data"
    }
   ],
   "source": [
    "#2017 wordcloud'unu grafiğe çevirdim;\n",
    "rslt.plot(x='Word', y = 'Frequency', kind= 'bar')"
   ]
  },
  {
   "cell_type": "code",
   "execution_count": null,
   "metadata": {},
   "outputs": [],
   "source": []
  }
 ],
 "metadata": {
  "kernelspec": {
   "display_name": "Python 3",
   "language": "python",
   "name": "python3"
  },
  "language_info": {
   "codemirror_mode": {
    "name": "ipython",
    "version": 3
   },
   "file_extension": ".py",
   "mimetype": "text/x-python",
   "name": "python",
   "nbconvert_exporter": "python",
   "pygments_lexer": "ipython3",
   "version": "3.8.5"
  }
 },
 "nbformat": 4,
 "nbformat_minor": 4
}
